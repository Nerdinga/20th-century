{
 "cells": [
  {
   "cell_type": "markdown",
   "id": "c8252511-1abb-45ac-9705-3f5849fe0ea3",
   "metadata": {},
   "source": [
    "# 1. Import libraries"
   ]
  },
  {
   "cell_type": "code",
   "execution_count": 5,
   "id": "40faf8f3-28bb-42e8-96fe-185c9dd0ecda",
   "metadata": {},
   "outputs": [],
   "source": [
    "import pandas as pd\n",
    "import numpy as np\n",
    "import spacy\n",
    "from spacy import displacy\n",
    "import networkx as nx\n",
    "import os\n",
    "import matplotlib.pyplot as plt\n",
    "import scipy\n",
    "import re"
   ]
  },
  {
   "cell_type": "code",
   "execution_count": 6,
   "id": "74f89627-c165-4b2d-971e-51a7ecf549e6",
   "metadata": {
    "tags": []
   },
   "outputs": [
    {
     "name": "stdout",
     "output_type": "stream",
     "text": [
      "Collecting en-core-web-sm==3.8.0\n",
      "  Using cached https://github.com/explosion/spacy-models/releases/download/en_core_web_sm-3.8.0/en_core_web_sm-3.8.0-py3-none-any.whl (12.8 MB)\n",
      "\u001b[38;5;2m✔ Download and installation successful\u001b[0m\n",
      "You can now load the package via spacy.load('en_core_web_sm')\n"
     ]
    }
   ],
   "source": [
    "# Download English module\n",
    "\n",
    "!python -m spacy download en_core_web_sm"
   ]
  },
  {
   "cell_type": "code",
   "execution_count": 7,
   "id": "e8f27aba-7fb0-40a7-b262-857d3d470ad3",
   "metadata": {},
   "outputs": [],
   "source": [
    "# Load spacy English module\n",
    "\n",
    "NER = spacy.load(\"en_core_web_sm\")"
   ]
  },
  {
   "cell_type": "markdown",
   "id": "4fe564a0-3325-4f61-9f61-a1459f8394b7",
   "metadata": {},
   "source": [
    "# 2. Load \"Key events\" page"
   ]
  },
  {
   "cell_type": "code",
   "execution_count": 9,
   "id": "c0965958-15b0-483b-b8f9-c19133bf24a9",
   "metadata": {},
   "outputs": [],
   "source": [
    "# Load the book\n",
    "\n",
    "with open('Key_events.txt', 'r', errors='ignore') as file:\n",
    "    data = file.read().replace('\\n', '')"
   ]
  },
  {
   "cell_type": "code",
   "execution_count": 10,
   "id": "5c70eece-eb4d-490a-9e85-406ef55bb847",
   "metadata": {
    "tags": []
   },
   "outputs": [],
   "source": [
    "events = NER(data)"
   ]
  },
  {
   "cell_type": "markdown",
   "id": "ed7a4727-37c5-4e4d-8832-771aa6523321",
   "metadata": {},
   "source": [
    "# 3. Get named entity list per sentence"
   ]
  },
  {
   "cell_type": "code",
   "execution_count": 16,
   "id": "c5bad64c-2e27-4b85-b5e2-73cc92dc1f9d",
   "metadata": {},
   "outputs": [],
   "source": [
    "df_sentences = [] # empty shell to store results\n",
    "\n",
    "# Loop through sentences, get entity list for each sentence\n",
    "for sent in events.sents:\n",
    "    entity_list = [ent.text for ent in sent.ents]\n",
    "    df_sentences.append({\"sentence\": sent, \"entities\": entity_list})\n",
    "    \n",
    "df_sentences = pd.DataFrame(df_sentences)"
   ]
  },
  {
   "cell_type": "code",
   "execution_count": 17,
   "id": "66c7bbb8-0611-49e0-b372-0350d777a66f",
   "metadata": {
    "tags": []
   },
   "outputs": [
    {
     "data": {
      "text/html": [
       "<div>\n",
       "<style scoped>\n",
       "    .dataframe tbody tr th:only-of-type {\n",
       "        vertical-align: middle;\n",
       "    }\n",
       "\n",
       "    .dataframe tbody tr th {\n",
       "        vertical-align: top;\n",
       "    }\n",
       "\n",
       "    .dataframe thead th {\n",
       "        text-align: right;\n",
       "    }\n",
       "</style>\n",
       "<table border=\"1\" class=\"dataframe\">\n",
       "  <thead>\n",
       "    <tr style=\"text-align: right;\">\n",
       "      <th></th>\n",
       "      <th>sentence</th>\n",
       "      <th>entities</th>\n",
       "    </tr>\n",
       "  </thead>\n",
       "  <tbody>\n",
       "    <tr>\n",
       "      <th>0</th>\n",
       "      <td>(Key, events, of, the, 20th, century, -, Wikip...</td>\n",
       "      <td>[the 20th century - WikipediaJump, Navigation\\...</td>\n",
       "    </tr>\n",
       "    <tr>\n",
       "      <th>1</th>\n",
       "      <td>(Overlord1.4.6Final, days1.4.7The, war, in, th...</td>\n",
       "      <td>[Holocaust1.4.12The Nuclear Age begins1.5The, ...</td>\n",
       "    </tr>\n",
       "    <tr>\n",
       "      <th>2</th>\n",
       "      <td>(The, World, Wars, sparked, tension, between, ...</td>\n",
       "      <td>[The World Wars, the Cold War, the Space Race,...</td>\n",
       "    </tr>\n",
       "    <tr>\n",
       "      <th>3</th>\n",
       "      <td>(These, advancements, have, played, a, signifi...</td>\n",
       "      <td>[the 21st century, today]</td>\n",
       "    </tr>\n",
       "    <tr>\n",
       "      <th>4</th>\n",
       "      <td>(Historic, events, in, the, 20th, century[edit...</td>\n",
       "      <td>[the 20th, Edwardian, the 20th century]</td>\n",
       "    </tr>\n",
       "    <tr>\n",
       "      <th>5</th>\n",
       "      <td>(The, 1900s, saw, the, decade, herald, a, seri...</td>\n",
       "      <td>[The 1900s, the decade]</td>\n",
       "    </tr>\n",
       "    <tr>\n",
       "      <th>6</th>\n",
       "      <td>(1914, saw, the, completion, of, the, Panama, ...</td>\n",
       "      <td>[1914, the Panama Canal]</td>\n",
       "    </tr>\n",
       "    <tr>\n",
       "      <th>7</th>\n",
       "      <td>(The, Scramble, for, Africa, continued, in, th...</td>\n",
       "      <td>[Scramble, Africa, the 1900s]</td>\n",
       "    </tr>\n",
       "    <tr>\n",
       "      <th>8</th>\n",
       "      <td>(The, atrocities, in, the, Congo, Free, State,...</td>\n",
       "      <td>[the Congo Free State]</td>\n",
       "    </tr>\n",
       "    <tr>\n",
       "      <th>9</th>\n",
       "      <td>(From, 1914, to, 1918, ,, the, First, World, W...</td>\n",
       "      <td>[1914 to 1918, the First World War]</td>\n",
       "    </tr>\n",
       "  </tbody>\n",
       "</table>\n",
       "</div>"
      ],
      "text/plain": [
       "                                            sentence  \\\n",
       "0  (Key, events, of, the, 20th, century, -, Wikip...   \n",
       "1  (Overlord1.4.6Final, days1.4.7The, war, in, th...   \n",
       "2  (The, World, Wars, sparked, tension, between, ...   \n",
       "3  (These, advancements, have, played, a, signifi...   \n",
       "4  (Historic, events, in, the, 20th, century[edit...   \n",
       "5  (The, 1900s, saw, the, decade, herald, a, seri...   \n",
       "6  (1914, saw, the, completion, of, the, Panama, ...   \n",
       "7  (The, Scramble, for, Africa, continued, in, th...   \n",
       "8  (The, atrocities, in, the, Congo, Free, State,...   \n",
       "9  (From, 1914, to, 1918, ,, the, First, World, W...   \n",
       "\n",
       "                                            entities  \n",
       "0  [the 20th century - WikipediaJump, Navigation\\...  \n",
       "1  [Holocaust1.4.12The Nuclear Age begins1.5The, ...  \n",
       "2  [The World Wars, the Cold War, the Space Race,...  \n",
       "3                          [the 21st century, today]  \n",
       "4            [the 20th, Edwardian, the 20th century]  \n",
       "5                            [The 1900s, the decade]  \n",
       "6                           [1914, the Panama Canal]  \n",
       "7                      [Scramble, Africa, the 1900s]  \n",
       "8                             [the Congo Free State]  \n",
       "9                [1914 to 1918, the First World War]  "
      ]
     },
     "execution_count": 17,
     "metadata": {},
     "output_type": "execute_result"
    }
   ],
   "source": [
    "df_sentences.head(10)"
   ]
  },
  {
   "cell_type": "markdown",
   "id": "0d8ba555-2141-4372-99ef-00185775c031",
   "metadata": {
    "tags": []
   },
   "source": [
    "# 4. Load country names"
   ]
  },
  {
   "cell_type": "code",
   "execution_count": 20,
   "id": "c7e8d75c-a585-4190-b5aa-411093ca32d2",
   "metadata": {},
   "outputs": [],
   "source": [
    "# Import characters\n",
    "\n",
    "character_df = pd.read_csv(\"Countries.csv\", index_col = 0)"
   ]
  },
  {
   "cell_type": "code",
   "execution_count": 21,
   "id": "9559eee5-50e1-4c14-b409-bcd38a3f4b8b",
   "metadata": {},
   "outputs": [
    {
     "data": {
      "text/html": [
       "<div>\n",
       "<style scoped>\n",
       "    .dataframe tbody tr th:only-of-type {\n",
       "        vertical-align: middle;\n",
       "    }\n",
       "\n",
       "    .dataframe tbody tr th {\n",
       "        vertical-align: top;\n",
       "    }\n",
       "\n",
       "    .dataframe thead th {\n",
       "        text-align: right;\n",
       "    }\n",
       "</style>\n",
       "<table border=\"1\" class=\"dataframe\">\n",
       "  <thead>\n",
       "    <tr style=\"text-align: right;\">\n",
       "      <th></th>\n",
       "      <th>Country</th>\n",
       "    </tr>\n",
       "  </thead>\n",
       "  <tbody>\n",
       "    <tr>\n",
       "      <th>0</th>\n",
       "      <td>Afghanistan</td>\n",
       "    </tr>\n",
       "    <tr>\n",
       "      <th>1</th>\n",
       "      <td>Albania</td>\n",
       "    </tr>\n",
       "    <tr>\n",
       "      <th>2</th>\n",
       "      <td>Algeria</td>\n",
       "    </tr>\n",
       "    <tr>\n",
       "      <th>3</th>\n",
       "      <td>Andorra</td>\n",
       "    </tr>\n",
       "    <tr>\n",
       "      <th>4</th>\n",
       "      <td>Angola</td>\n",
       "    </tr>\n",
       "  </tbody>\n",
       "</table>\n",
       "</div>"
      ],
      "text/plain": [
       "       Country\n",
       "0  Afghanistan\n",
       "1      Albania\n",
       "2      Algeria\n",
       "3      Andorra\n",
       "4       Angola"
      ]
     },
     "execution_count": 21,
     "metadata": {},
     "output_type": "execute_result"
    }
   ],
   "source": [
    "character_df.head()"
   ]
  },
  {
   "cell_type": "markdown",
   "id": "73657863-38a5-4a95-bbc9-1de1e38a3bb4",
   "metadata": {},
   "source": [
    "# 5. Filtering entities from the page"
   ]
  },
  {
   "cell_type": "code",
   "execution_count": 22,
   "id": "a1ebbac7-530b-4212-ac64-3f81a3980fa4",
   "metadata": {},
   "outputs": [],
   "source": [
    "# Function to filter out entities not of interest\n",
    "\n",
    "def filter_entity(ent_list, character_df):\n",
    "    return [ent for ent in ent_list \n",
    "            if ent in list(character_df['Country'])]"
   ]
  },
  {
   "cell_type": "code",
   "execution_count": 23,
   "id": "10817612-87cb-47f3-b154-60636718e302",
   "metadata": {},
   "outputs": [],
   "source": [
    "df_sentences['country_entities'] = df_sentences['entities'].apply(lambda x: filter_entity(x, character_df))"
   ]
  },
  {
   "cell_type": "code",
   "execution_count": 24,
   "id": "384d9ff0-cd3c-4bef-a3e7-fda5fdb46bb1",
   "metadata": {},
   "outputs": [
    {
     "data": {
      "text/plain": [
       "0                    []\n",
       "1                    []\n",
       "2                    []\n",
       "3                    []\n",
       "4                    []\n",
       "5                    []\n",
       "6                    []\n",
       "7                    []\n",
       "8                    []\n",
       "9                    []\n",
       "10                   []\n",
       "11                   []\n",
       "12                   []\n",
       "13     [France, Russia]\n",
       "14    [Germany, Russia]\n",
       "15            [Germany]\n",
       "16            [Germany]\n",
       "17                   []\n",
       "18                   []\n",
       "19                   []\n",
       "Name: country_entities, dtype: object"
      ]
     },
     "execution_count": 24,
     "metadata": {},
     "output_type": "execute_result"
    }
   ],
   "source": [
    "df_sentences['country_entities'].head(20)"
   ]
  },
  {
   "cell_type": "code",
   "execution_count": 25,
   "id": "dba0b808-fbc3-4e67-a557-a33d084cb7fb",
   "metadata": {},
   "outputs": [],
   "source": [
    "# Filter out sentences that don't have any character entities\n",
    "\n",
    "df_sentences_filtered = df_sentences[df_sentences['country_entities'].map(len) > 0]"
   ]
  },
  {
   "cell_type": "code",
   "execution_count": 26,
   "id": "373e9d56-1e93-412b-85c7-b2cd4f6e083d",
   "metadata": {},
   "outputs": [
    {
     "data": {
      "text/html": [
       "<div>\n",
       "<style scoped>\n",
       "    .dataframe tbody tr th:only-of-type {\n",
       "        vertical-align: middle;\n",
       "    }\n",
       "\n",
       "    .dataframe tbody tr th {\n",
       "        vertical-align: top;\n",
       "    }\n",
       "\n",
       "    .dataframe thead th {\n",
       "        text-align: right;\n",
       "    }\n",
       "</style>\n",
       "<table border=\"1\" class=\"dataframe\">\n",
       "  <thead>\n",
       "    <tr style=\"text-align: right;\">\n",
       "      <th></th>\n",
       "      <th>sentence</th>\n",
       "      <th>entities</th>\n",
       "      <th>country_entities</th>\n",
       "    </tr>\n",
       "  </thead>\n",
       "  <tbody>\n",
       "    <tr>\n",
       "      <th>921</th>\n",
       "      <td>(\", Indian, Independence, Day, :, everything, ...</td>\n",
       "      <td>[Indian Independence Day, Partition between In...</td>\n",
       "      <td>[Pakistan]</td>\n",
       "    </tr>\n",
       "    <tr>\n",
       "      <th>928</th>\n",
       "      <td>(\", The, Philippines, ,, 1898–1946, |, US, Hou...</td>\n",
       "      <td>[Philippines, 1898–1946, US House of Represent...</td>\n",
       "      <td>[Philippines]</td>\n",
       "    </tr>\n",
       "    <tr>\n",
       "      <th>953</th>\n",
       "      <td>(\", Colonial, Cartographies, ,, Postcolonial, ...</td>\n",
       "      <td>[Colonial Cartographies, Postcolonial Borders,...</td>\n",
       "      <td>[Afghanistan]</td>\n",
       "    </tr>\n",
       "    <tr>\n",
       "      <th>983</th>\n",
       "      <td>(The, Moldovans, :, Romania, ,, Russia, ,, and...</td>\n",
       "      <td>[Moldovans, Romania, Russia, the Politics of C...</td>\n",
       "      <td>[Romania, Russia]</td>\n",
       "    </tr>\n",
       "    <tr>\n",
       "      <th>993</th>\n",
       "      <td>(Now, ,, North, Korea, may, be, the, one, true...</td>\n",
       "      <td>[North Korea, one]</td>\n",
       "      <td>[North Korea]</td>\n",
       "    </tr>\n",
       "    <tr>\n",
       "      <th>1027</th>\n",
       "      <td>(\", Selling, ', Operation, Passage, to, Freedo...</td>\n",
       "      <td>[Thomas Dooley, the Religious Overtones of Ear...</td>\n",
       "      <td>[Vietnam]</td>\n",
       "    </tr>\n",
       "    <tr>\n",
       "      <th>1050</th>\n",
       "      <td>(\", Stuck, in, Endless, Preliminaries, :, Viet...</td>\n",
       "      <td>[Stuck in Endless Preliminaries, Vietnam, the ...</td>\n",
       "      <td>[Vietnam]</td>\n",
       "    </tr>\n",
       "    <tr>\n",
       "      <th>1262</th>\n",
       "      <td>(\", Anti, -, American, Behavior, in, the, Midd...</td>\n",
       "      <td>[Anti-American Behavior, the Middle East, a Fi...</td>\n",
       "      <td>[Lebanon]</td>\n",
       "    </tr>\n",
       "    <tr>\n",
       "      <th>1266</th>\n",
       "      <td>(The, Rise, of, China, and, India, :, A, New, ...</td>\n",
       "      <td>[India, New Asian]</td>\n",
       "      <td>[India]</td>\n",
       "    </tr>\n",
       "    <tr>\n",
       "      <th>1267</th>\n",
       "      <td>(Singapore, :, World, Scientific, ., doi:10.11...</td>\n",
       "      <td>[Singapore, World Scientific]</td>\n",
       "      <td>[Singapore]</td>\n",
       "    </tr>\n",
       "  </tbody>\n",
       "</table>\n",
       "</div>"
      ],
      "text/plain": [
       "                                               sentence  \\\n",
       "921   (\", Indian, Independence, Day, :, everything, ...   \n",
       "928   (\", The, Philippines, ,, 1898–1946, |, US, Hou...   \n",
       "953   (\", Colonial, Cartographies, ,, Postcolonial, ...   \n",
       "983   (The, Moldovans, :, Romania, ,, Russia, ,, and...   \n",
       "993   (Now, ,, North, Korea, may, be, the, one, true...   \n",
       "1027  (\", Selling, ', Operation, Passage, to, Freedo...   \n",
       "1050  (\", Stuck, in, Endless, Preliminaries, :, Viet...   \n",
       "1262  (\", Anti, -, American, Behavior, in, the, Midd...   \n",
       "1266  (The, Rise, of, China, and, India, :, A, New, ...   \n",
       "1267  (Singapore, :, World, Scientific, ., doi:10.11...   \n",
       "\n",
       "                                               entities   country_entities  \n",
       "921   [Indian Independence Day, Partition between In...         [Pakistan]  \n",
       "928   [Philippines, 1898–1946, US House of Represent...      [Philippines]  \n",
       "953   [Colonial Cartographies, Postcolonial Borders,...      [Afghanistan]  \n",
       "983   [Moldovans, Romania, Russia, the Politics of C...  [Romania, Russia]  \n",
       "993                                  [North Korea, one]      [North Korea]  \n",
       "1027  [Thomas Dooley, the Religious Overtones of Ear...          [Vietnam]  \n",
       "1050  [Stuck in Endless Preliminaries, Vietnam, the ...          [Vietnam]  \n",
       "1262  [Anti-American Behavior, the Middle East, a Fi...          [Lebanon]  \n",
       "1266                                 [India, New Asian]            [India]  \n",
       "1267                      [Singapore, World Scientific]        [Singapore]  "
      ]
     },
     "execution_count": 26,
     "metadata": {},
     "output_type": "execute_result"
    }
   ],
   "source": [
    "df_sentences_filtered.tail(10)"
   ]
  },
  {
   "cell_type": "markdown",
   "id": "13464cb5-e6ea-491e-bbc5-ce84801a1f3b",
   "metadata": {},
   "source": [
    "# 6. Creating relationships"
   ]
  },
  {
   "cell_type": "code",
   "execution_count": 28,
   "id": "a19c1561-f77c-41e2-9a10-f7c0c80a43b4",
   "metadata": {},
   "outputs": [],
   "source": [
    "# Defining relationships \n",
    "\n",
    "# window size = 5 : this defines how many sentences will be looked at simultaneously \n",
    "relationships = [] # create an empty list\n",
    "\n",
    "for i in range(df_sentences_filtered.index[-1]):\n",
    "    end_i = min(i+5, df_sentences_filtered.index[-1])\n",
    "    char_list = sum((df_sentences_filtered.loc[i: end_i].country_entities), [])\n",
    "    \n",
    "    # Remove duplicated characters that are next to each other\n",
    "    char_unique = [char_list[i] for i in range(len(char_list)) \n",
    "                   if (i==0) or char_list[i] != char_list[i-1]]\n",
    "    \n",
    "    if len(char_unique) > 1:\n",
    "        for idx, a in enumerate(char_unique[:-1]):\n",
    "            b = char_unique[idx + 1]\n",
    "            relationships.append({\"source\": a, \"target\": b})"
   ]
  },
  {
   "cell_type": "code",
   "execution_count": 29,
   "id": "bd1b5618-a9eb-4bd1-a9f9-19dd85f63955",
   "metadata": {},
   "outputs": [],
   "source": [
    "relationship_df = pd.DataFrame(relationships)"
   ]
  },
  {
   "cell_type": "code",
   "execution_count": 30,
   "id": "52f3f7a3-84a0-46b2-a0ae-90d8efac1029",
   "metadata": {
    "tags": []
   },
   "outputs": [
    {
     "data": {
      "text/html": [
       "<div>\n",
       "<style scoped>\n",
       "    .dataframe tbody tr th:only-of-type {\n",
       "        vertical-align: middle;\n",
       "    }\n",
       "\n",
       "    .dataframe tbody tr th {\n",
       "        vertical-align: top;\n",
       "    }\n",
       "\n",
       "    .dataframe thead th {\n",
       "        text-align: right;\n",
       "    }\n",
       "</style>\n",
       "<table border=\"1\" class=\"dataframe\">\n",
       "  <thead>\n",
       "    <tr style=\"text-align: right;\">\n",
       "      <th></th>\n",
       "      <th>source</th>\n",
       "      <th>target</th>\n",
       "    </tr>\n",
       "  </thead>\n",
       "  <tbody>\n",
       "    <tr>\n",
       "      <th>0</th>\n",
       "      <td>France</td>\n",
       "      <td>Russia</td>\n",
       "    </tr>\n",
       "    <tr>\n",
       "      <th>1</th>\n",
       "      <td>France</td>\n",
       "      <td>Russia</td>\n",
       "    </tr>\n",
       "    <tr>\n",
       "      <th>2</th>\n",
       "      <td>Russia</td>\n",
       "      <td>Germany</td>\n",
       "    </tr>\n",
       "    <tr>\n",
       "      <th>3</th>\n",
       "      <td>Germany</td>\n",
       "      <td>Russia</td>\n",
       "    </tr>\n",
       "    <tr>\n",
       "      <th>4</th>\n",
       "      <td>France</td>\n",
       "      <td>Russia</td>\n",
       "    </tr>\n",
       "    <tr>\n",
       "      <th>...</th>\n",
       "      <td>...</td>\n",
       "      <td>...</td>\n",
       "    </tr>\n",
       "    <tr>\n",
       "      <th>675</th>\n",
       "      <td>India</td>\n",
       "      <td>Singapore</td>\n",
       "    </tr>\n",
       "    <tr>\n",
       "      <th>676</th>\n",
       "      <td>India</td>\n",
       "      <td>Singapore</td>\n",
       "    </tr>\n",
       "    <tr>\n",
       "      <th>677</th>\n",
       "      <td>India</td>\n",
       "      <td>Singapore</td>\n",
       "    </tr>\n",
       "    <tr>\n",
       "      <th>678</th>\n",
       "      <td>India</td>\n",
       "      <td>Singapore</td>\n",
       "    </tr>\n",
       "    <tr>\n",
       "      <th>679</th>\n",
       "      <td>India</td>\n",
       "      <td>Singapore</td>\n",
       "    </tr>\n",
       "  </tbody>\n",
       "</table>\n",
       "<p>680 rows × 2 columns</p>\n",
       "</div>"
      ],
      "text/plain": [
       "      source     target\n",
       "0     France     Russia\n",
       "1     France     Russia\n",
       "2     Russia    Germany\n",
       "3    Germany     Russia\n",
       "4     France     Russia\n",
       "..       ...        ...\n",
       "675    India  Singapore\n",
       "676    India  Singapore\n",
       "677    India  Singapore\n",
       "678    India  Singapore\n",
       "679    India  Singapore\n",
       "\n",
       "[680 rows x 2 columns]"
      ]
     },
     "execution_count": 30,
     "metadata": {},
     "output_type": "execute_result"
    }
   ],
   "source": [
    "relationship_df"
   ]
  },
  {
   "cell_type": "code",
   "execution_count": 31,
   "id": "56d4210d-b8dc-429f-b3a7-9cff2d4715f2",
   "metadata": {
    "tags": []
   },
   "outputs": [
    {
     "data": {
      "text/html": [
       "<div>\n",
       "<style scoped>\n",
       "    .dataframe tbody tr th:only-of-type {\n",
       "        vertical-align: middle;\n",
       "    }\n",
       "\n",
       "    .dataframe tbody tr th {\n",
       "        vertical-align: top;\n",
       "    }\n",
       "\n",
       "    .dataframe thead th {\n",
       "        text-align: right;\n",
       "    }\n",
       "</style>\n",
       "<table border=\"1\" class=\"dataframe\">\n",
       "  <thead>\n",
       "    <tr style=\"text-align: right;\">\n",
       "      <th></th>\n",
       "      <th>source</th>\n",
       "      <th>target</th>\n",
       "    </tr>\n",
       "  </thead>\n",
       "  <tbody>\n",
       "    <tr>\n",
       "      <th>0</th>\n",
       "      <td>France</td>\n",
       "      <td>Russia</td>\n",
       "    </tr>\n",
       "    <tr>\n",
       "      <th>1</th>\n",
       "      <td>France</td>\n",
       "      <td>Russia</td>\n",
       "    </tr>\n",
       "    <tr>\n",
       "      <th>2</th>\n",
       "      <td>Germany</td>\n",
       "      <td>Russia</td>\n",
       "    </tr>\n",
       "    <tr>\n",
       "      <th>3</th>\n",
       "      <td>Germany</td>\n",
       "      <td>Russia</td>\n",
       "    </tr>\n",
       "    <tr>\n",
       "      <th>4</th>\n",
       "      <td>France</td>\n",
       "      <td>Russia</td>\n",
       "    </tr>\n",
       "  </tbody>\n",
       "</table>\n",
       "</div>"
      ],
      "text/plain": [
       "    source  target\n",
       "0   France  Russia\n",
       "1   France  Russia\n",
       "2  Germany  Russia\n",
       "3  Germany  Russia\n",
       "4   France  Russia"
      ]
     },
     "execution_count": 31,
     "metadata": {},
     "output_type": "execute_result"
    }
   ],
   "source": [
    "# Sort the cases with a->b and b->a\n",
    "\n",
    "relationship_df = pd.DataFrame(np.sort(relationship_df.values, axis = 1), columns = relationship_df.columns)\n",
    "relationship_df.head(5)"
   ]
  },
  {
   "cell_type": "code",
   "execution_count": 32,
   "id": "263ef190-3146-4030-b6c6-0ba432dfe285",
   "metadata": {},
   "outputs": [],
   "source": [
    "# Summarize the interactions\n",
    "\n",
    "relationship_df[\"value\"] = 1\n",
    "relationship_df = relationship_df.groupby([\"source\",\"target\"], sort=False, as_index=False).sum()"
   ]
  },
  {
   "cell_type": "code",
   "execution_count": 33,
   "id": "cde877aa-1de5-420f-951a-5f362bf38b6e",
   "metadata": {
    "tags": []
   },
   "outputs": [
    {
     "data": {
      "text/html": [
       "<div>\n",
       "<style scoped>\n",
       "    .dataframe tbody tr th:only-of-type {\n",
       "        vertical-align: middle;\n",
       "    }\n",
       "\n",
       "    .dataframe tbody tr th {\n",
       "        vertical-align: top;\n",
       "    }\n",
       "\n",
       "    .dataframe thead th {\n",
       "        text-align: right;\n",
       "    }\n",
       "</style>\n",
       "<table border=\"1\" class=\"dataframe\">\n",
       "  <thead>\n",
       "    <tr style=\"text-align: right;\">\n",
       "      <th></th>\n",
       "      <th>source</th>\n",
       "      <th>target</th>\n",
       "      <th>value</th>\n",
       "    </tr>\n",
       "  </thead>\n",
       "  <tbody>\n",
       "    <tr>\n",
       "      <th>0</th>\n",
       "      <td>France</td>\n",
       "      <td>Russia</td>\n",
       "      <td>12</td>\n",
       "    </tr>\n",
       "    <tr>\n",
       "      <th>1</th>\n",
       "      <td>Germany</td>\n",
       "      <td>Russia</td>\n",
       "      <td>21</td>\n",
       "    </tr>\n",
       "    <tr>\n",
       "      <th>2</th>\n",
       "      <td>Germany</td>\n",
       "      <td>Italy</td>\n",
       "      <td>26</td>\n",
       "    </tr>\n",
       "    <tr>\n",
       "      <th>3</th>\n",
       "      <td>Austria</td>\n",
       "      <td>Germany</td>\n",
       "      <td>11</td>\n",
       "    </tr>\n",
       "    <tr>\n",
       "      <th>4</th>\n",
       "      <td>Germany</td>\n",
       "      <td>Spain</td>\n",
       "      <td>3</td>\n",
       "    </tr>\n",
       "    <tr>\n",
       "      <th>5</th>\n",
       "      <td>France</td>\n",
       "      <td>Spain</td>\n",
       "      <td>1</td>\n",
       "    </tr>\n",
       "    <tr>\n",
       "      <th>6</th>\n",
       "      <td>France</td>\n",
       "      <td>Poland</td>\n",
       "      <td>15</td>\n",
       "    </tr>\n",
       "    <tr>\n",
       "      <th>7</th>\n",
       "      <td>France</td>\n",
       "      <td>Germany</td>\n",
       "      <td>19</td>\n",
       "    </tr>\n",
       "    <tr>\n",
       "      <th>8</th>\n",
       "      <td>Germany</td>\n",
       "      <td>Poland</td>\n",
       "      <td>24</td>\n",
       "    </tr>\n",
       "    <tr>\n",
       "      <th>9</th>\n",
       "      <td>Poland</td>\n",
       "      <td>Soviet Union</td>\n",
       "      <td>8</td>\n",
       "    </tr>\n",
       "  </tbody>\n",
       "</table>\n",
       "</div>"
      ],
      "text/plain": [
       "    source        target  value\n",
       "0   France        Russia     12\n",
       "1  Germany        Russia     21\n",
       "2  Germany         Italy     26\n",
       "3  Austria       Germany     11\n",
       "4  Germany         Spain      3\n",
       "5   France         Spain      1\n",
       "6   France        Poland     15\n",
       "7   France       Germany     19\n",
       "8  Germany        Poland     24\n",
       "9   Poland  Soviet Union      8"
      ]
     },
     "execution_count": 33,
     "metadata": {},
     "output_type": "execute_result"
    }
   ],
   "source": [
    "relationship_df.head(10)"
   ]
  },
  {
   "cell_type": "markdown",
   "id": "50243102-e084-4f7d-8fb2-0354bc654d71",
   "metadata": {},
   "source": [
    "# 7. Exporting the file"
   ]
  },
  {
   "cell_type": "code",
   "execution_count": 34,
   "id": "f19975b6-4e30-4add-bfe5-402f2d9b46e1",
   "metadata": {},
   "outputs": [],
   "source": [
    "relationship_df.to_csv('country_relationship.csv')"
   ]
  }
 ],
 "metadata": {
  "kernelspec": {
   "display_name": "Python [conda env:venv_20thcentury]",
   "language": "python",
   "name": "conda-env-venv_20thcentury-py"
  },
  "language_info": {
   "codemirror_mode": {
    "name": "ipython",
    "version": 3
   },
   "file_extension": ".py",
   "mimetype": "text/x-python",
   "name": "python",
   "nbconvert_exporter": "python",
   "pygments_lexer": "ipython3",
   "version": "3.13.5"
  }
 },
 "nbformat": 4,
 "nbformat_minor": 5
}
